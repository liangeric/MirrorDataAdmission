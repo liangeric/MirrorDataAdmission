{
 "cells": [
  {
   "cell_type": "markdown",
   "id": "amino-bracelet",
   "metadata": {},
   "source": [
    "# Data Overview"
   ]
  },
  {
   "cell_type": "code",
   "execution_count": 139,
   "id": "located-buying",
   "metadata": {},
   "outputs": [],
   "source": [
    "import numpy as np\n",
    "import pandas as pd\n",
    "\n",
    "import matplotlib.pyplot as plt\n",
    "from sklearn.preprocessing import LabelEncoder\n",
    "from sklearn.model_selection import train_test_split\n",
    "from sklearn.linear_model import LogisticRegression\n",
    "from sklearn.metrics import plot_confusion_matrix\n",
    "\n",
    "# Read in data\n",
    "data = pd.read_csv(\"admission0.csv\")"
   ]
  },
  {
   "cell_type": "code",
   "execution_count": 140,
   "id": "enabling-soviet",
   "metadata": {},
   "outputs": [
    {
     "data": {
      "text/html": [
       "<div>\n",
       "<style scoped>\n",
       "    .dataframe tbody tr th:only-of-type {\n",
       "        vertical-align: middle;\n",
       "    }\n",
       "\n",
       "    .dataframe tbody tr th {\n",
       "        vertical-align: top;\n",
       "    }\n",
       "\n",
       "    .dataframe thead th {\n",
       "        text-align: right;\n",
       "    }\n",
       "</style>\n",
       "<table border=\"1\" class=\"dataframe\">\n",
       "  <thead>\n",
       "    <tr style=\"text-align: right;\">\n",
       "      <th></th>\n",
       "      <th>sex</th>\n",
       "      <th>diversity</th>\n",
       "      <th>legacy</th>\n",
       "      <th>SAT</th>\n",
       "      <th>GPA</th>\n",
       "      <th>extracurricular</th>\n",
       "      <th>TOEFL</th>\n",
       "      <th>AP</th>\n",
       "      <th>letterScore</th>\n",
       "      <th>subject</th>\n",
       "      <th>admission</th>\n",
       "    </tr>\n",
       "  </thead>\n",
       "  <tbody>\n",
       "    <tr>\n",
       "      <th>0</th>\n",
       "      <td>M</td>\n",
       "      <td>W</td>\n",
       "      <td>Y</td>\n",
       "      <td>1509.398</td>\n",
       "      <td>1.573</td>\n",
       "      <td>2</td>\n",
       "      <td>48.722</td>\n",
       "      <td>32</td>\n",
       "      <td>0.352</td>\n",
       "      <td>1</td>\n",
       "      <td>N</td>\n",
       "    </tr>\n",
       "    <tr>\n",
       "      <th>1</th>\n",
       "      <td>M</td>\n",
       "      <td>O</td>\n",
       "      <td>Y</td>\n",
       "      <td>853.885</td>\n",
       "      <td>2.403</td>\n",
       "      <td>6</td>\n",
       "      <td>41.644</td>\n",
       "      <td>3</td>\n",
       "      <td>0.602</td>\n",
       "      <td>4</td>\n",
       "      <td>N</td>\n",
       "    </tr>\n",
       "    <tr>\n",
       "      <th>2</th>\n",
       "      <td>M</td>\n",
       "      <td>A</td>\n",
       "      <td>N</td>\n",
       "      <td>937.916</td>\n",
       "      <td>2.147</td>\n",
       "      <td>9</td>\n",
       "      <td>70.826</td>\n",
       "      <td>3</td>\n",
       "      <td>0.411</td>\n",
       "      <td>4</td>\n",
       "      <td>N</td>\n",
       "    </tr>\n",
       "    <tr>\n",
       "      <th>3</th>\n",
       "      <td>M</td>\n",
       "      <td>W</td>\n",
       "      <td>N</td>\n",
       "      <td>1383.703</td>\n",
       "      <td>1.578</td>\n",
       "      <td>5</td>\n",
       "      <td>72.533</td>\n",
       "      <td>9</td>\n",
       "      <td>0.360</td>\n",
       "      <td>0</td>\n",
       "      <td>Y</td>\n",
       "    </tr>\n",
       "    <tr>\n",
       "      <th>4</th>\n",
       "      <td>F</td>\n",
       "      <td>O</td>\n",
       "      <td>N</td>\n",
       "      <td>1226.045</td>\n",
       "      <td>3.316</td>\n",
       "      <td>7</td>\n",
       "      <td>58.988</td>\n",
       "      <td>4</td>\n",
       "      <td>0.296</td>\n",
       "      <td>3</td>\n",
       "      <td>Y</td>\n",
       "    </tr>\n",
       "  </tbody>\n",
       "</table>\n",
       "</div>"
      ],
      "text/plain": [
       "  sex diversity legacy       SAT    GPA  extracurricular   TOEFL  AP  \\\n",
       "0   M         W      Y  1509.398  1.573                2  48.722  32   \n",
       "1   M         O      Y   853.885  2.403                6  41.644   3   \n",
       "2   M         A      N   937.916  2.147                9  70.826   3   \n",
       "3   M         W      N  1383.703  1.578                5  72.533   9   \n",
       "4   F         O      N  1226.045  3.316                7  58.988   4   \n",
       "\n",
       "   letterScore  subject admission  \n",
       "0        0.352        1         N  \n",
       "1        0.602        4         N  \n",
       "2        0.411        4         N  \n",
       "3        0.360        0         Y  \n",
       "4        0.296        3         Y  "
      ]
     },
     "execution_count": 140,
     "metadata": {},
     "output_type": "execute_result"
    }
   ],
   "source": [
    "# Example of what data looks like\n",
    "data.head()"
   ]
  },
  {
   "cell_type": "code",
   "execution_count": 141,
   "id": "exotic-minute",
   "metadata": {},
   "outputs": [
    {
     "name": "stdout",
     "output_type": "stream",
     "text": [
      "(30000, 11)\n"
     ]
    }
   ],
   "source": [
    "# Verify that the dimensions are correct\n",
    "print(data.shape)"
   ]
  },
  {
   "cell_type": "code",
   "execution_count": 142,
   "id": "severe-manner",
   "metadata": {},
   "outputs": [
    {
     "name": "stdout",
     "output_type": "stream",
     "text": [
      "F    15059\n",
      "M    14941\n",
      "Name: sex, dtype: int64\n",
      "\n",
      "W    11967\n",
      "A     6063\n",
      "O     4589\n",
      "B     2969\n",
      "H     2941\n",
      "I     1471\n",
      "Name: diversity, dtype: int64\n",
      "\n",
      "N    23945\n",
      "Y     6055\n",
      "Name: legacy, dtype: int64\n"
     ]
    }
   ],
   "source": [
    "# Verfiy all the categorical features have correct values\n",
    "print(data[\"sex\"].value_counts())\n",
    "print()\n",
    "print(data[\"diversity\"].value_counts())\n",
    "print()\n",
    "print(data[\"legacy\"].value_counts())"
   ]
  },
  {
   "cell_type": "code",
   "execution_count": 143,
   "id": "racial-warren",
   "metadata": {},
   "outputs": [
    {
     "data": {
      "text/html": [
       "<div>\n",
       "<style scoped>\n",
       "    .dataframe tbody tr th:only-of-type {\n",
       "        vertical-align: middle;\n",
       "    }\n",
       "\n",
       "    .dataframe tbody tr th {\n",
       "        vertical-align: top;\n",
       "    }\n",
       "\n",
       "    .dataframe thead th {\n",
       "        text-align: right;\n",
       "    }\n",
       "</style>\n",
       "<table border=\"1\" class=\"dataframe\">\n",
       "  <thead>\n",
       "    <tr style=\"text-align: right;\">\n",
       "      <th></th>\n",
       "      <th>SAT</th>\n",
       "      <th>GPA</th>\n",
       "      <th>extracurricular</th>\n",
       "      <th>TOEFL</th>\n",
       "      <th>AP</th>\n",
       "      <th>letterScore</th>\n",
       "      <th>subject</th>\n",
       "    </tr>\n",
       "  </thead>\n",
       "  <tbody>\n",
       "    <tr>\n",
       "      <th>count</th>\n",
       "      <td>30000.000000</td>\n",
       "      <td>30000.000000</td>\n",
       "      <td>30000.000000</td>\n",
       "      <td>30000.000000</td>\n",
       "      <td>30000.000000</td>\n",
       "      <td>30000.000000</td>\n",
       "      <td>30000.000000</td>\n",
       "    </tr>\n",
       "    <tr>\n",
       "      <th>mean</th>\n",
       "      <td>1104.814728</td>\n",
       "      <td>2.505558</td>\n",
       "      <td>4.501300</td>\n",
       "      <td>77.748561</td>\n",
       "      <td>6.157733</td>\n",
       "      <td>0.501544</td>\n",
       "      <td>1.982900</td>\n",
       "    </tr>\n",
       "    <tr>\n",
       "      <th>std</th>\n",
       "      <td>315.653652</td>\n",
       "      <td>0.632994</td>\n",
       "      <td>2.871319</td>\n",
       "      <td>17.936035</td>\n",
       "      <td>6.909147</td>\n",
       "      <td>0.288642</td>\n",
       "      <td>1.413438</td>\n",
       "    </tr>\n",
       "    <tr>\n",
       "      <th>min</th>\n",
       "      <td>-193.977000</td>\n",
       "      <td>0.153000</td>\n",
       "      <td>0.000000</td>\n",
       "      <td>-1.688000</td>\n",
       "      <td>0.000000</td>\n",
       "      <td>0.000000</td>\n",
       "      <td>0.000000</td>\n",
       "    </tr>\n",
       "    <tr>\n",
       "      <th>25%</th>\n",
       "      <td>891.128750</td>\n",
       "      <td>2.075000</td>\n",
       "      <td>2.000000</td>\n",
       "      <td>65.772500</td>\n",
       "      <td>2.000000</td>\n",
       "      <td>0.252000</td>\n",
       "      <td>1.000000</td>\n",
       "    </tr>\n",
       "    <tr>\n",
       "      <th>50%</th>\n",
       "      <td>1103.253500</td>\n",
       "      <td>2.505500</td>\n",
       "      <td>5.000000</td>\n",
       "      <td>75.247500</td>\n",
       "      <td>5.000000</td>\n",
       "      <td>0.501000</td>\n",
       "      <td>2.000000</td>\n",
       "    </tr>\n",
       "    <tr>\n",
       "      <th>75%</th>\n",
       "      <td>1317.383750</td>\n",
       "      <td>2.936000</td>\n",
       "      <td>7.000000</td>\n",
       "      <td>90.567000</td>\n",
       "      <td>8.000000</td>\n",
       "      <td>0.754000</td>\n",
       "      <td>3.000000</td>\n",
       "    </tr>\n",
       "    <tr>\n",
       "      <th>max</th>\n",
       "      <td>2310.776000</td>\n",
       "      <td>5.041000</td>\n",
       "      <td>9.000000</td>\n",
       "      <td>152.269000</td>\n",
       "      <td>37.000000</td>\n",
       "      <td>1.000000</td>\n",
       "      <td>4.000000</td>\n",
       "    </tr>\n",
       "  </tbody>\n",
       "</table>\n",
       "</div>"
      ],
      "text/plain": [
       "                SAT           GPA  extracurricular         TOEFL  \\\n",
       "count  30000.000000  30000.000000     30000.000000  30000.000000   \n",
       "mean    1104.814728      2.505558         4.501300     77.748561   \n",
       "std      315.653652      0.632994         2.871319     17.936035   \n",
       "min     -193.977000      0.153000         0.000000     -1.688000   \n",
       "25%      891.128750      2.075000         2.000000     65.772500   \n",
       "50%     1103.253500      2.505500         5.000000     75.247500   \n",
       "75%     1317.383750      2.936000         7.000000     90.567000   \n",
       "max     2310.776000      5.041000         9.000000    152.269000   \n",
       "\n",
       "                 AP   letterScore       subject  \n",
       "count  30000.000000  30000.000000  30000.000000  \n",
       "mean       6.157733      0.501544      1.982900  \n",
       "std        6.909147      0.288642      1.413438  \n",
       "min        0.000000      0.000000      0.000000  \n",
       "25%        2.000000      0.252000      1.000000  \n",
       "50%        5.000000      0.501000      2.000000  \n",
       "75%        8.000000      0.754000      3.000000  \n",
       "max       37.000000      1.000000      4.000000  "
      ]
     },
     "execution_count": 143,
     "metadata": {},
     "output_type": "execute_result"
    }
   ],
   "source": [
    "# Get statistics for numerical features\n",
    "data.describe()"
   ]
  },
  {
   "cell_type": "code",
   "execution_count": 144,
   "id": "parental-tours",
   "metadata": {},
   "outputs": [
    {
     "name": "stdout",
     "output_type": "stream",
     "text": [
      "Y    17075\n",
      "N    12925\n",
      "Name: admission, dtype: int64\n"
     ]
    }
   ],
   "source": [
    "# Get statistics for output admission\n",
    "print(data[\"admission\"].value_counts())"
   ]
  },
  {
   "cell_type": "markdown",
   "id": "animal-counter",
   "metadata": {},
   "source": [
    "# Verify DAG Edge and Node Properties"
   ]
  },
  {
   "cell_type": "code",
   "execution_count": 145,
   "id": "centered-antenna",
   "metadata": {},
   "outputs": [
    {
     "name": "stdout",
     "output_type": "stream",
     "text": [
      "F    0.501967\n",
      "M    0.498033\n",
      "Name: sex, dtype: float64\n",
      "\n",
      "W    0.398900\n",
      "A    0.202100\n",
      "O    0.152967\n",
      "B    0.098967\n",
      "H    0.098033\n",
      "I    0.049033\n",
      "Name: diversity, dtype: float64\n",
      "\n",
      "N    0.798167\n",
      "Y    0.201833\n",
      "Name: legacy, dtype: float64\n"
     ]
    }
   ],
   "source": [
    "# Convert counts to percentages\n",
    "print(data[\"sex\"].value_counts()/data.shape[0])\n",
    "print()\n",
    "print(data[\"diversity\"].value_counts()/data.shape[0])\n",
    "print()\n",
    "print(data[\"legacy\"].value_counts()/data.shape[0])"
   ]
  },
  {
   "cell_type": "code",
   "execution_count": 146,
   "id": "hybrid-potter",
   "metadata": {},
   "outputs": [
    {
     "data": {
      "text/html": [
       "<div>\n",
       "<style scoped>\n",
       "    .dataframe tbody tr th:only-of-type {\n",
       "        vertical-align: middle;\n",
       "    }\n",
       "\n",
       "    .dataframe tbody tr th {\n",
       "        vertical-align: top;\n",
       "    }\n",
       "\n",
       "    .dataframe thead th {\n",
       "        text-align: right;\n",
       "    }\n",
       "</style>\n",
       "<table border=\"1\" class=\"dataframe\">\n",
       "  <thead>\n",
       "    <tr style=\"text-align: right;\">\n",
       "      <th></th>\n",
       "      <th>count</th>\n",
       "      <th>mean</th>\n",
       "      <th>std</th>\n",
       "      <th>min</th>\n",
       "      <th>25%</th>\n",
       "      <th>50%</th>\n",
       "      <th>75%</th>\n",
       "      <th>max</th>\n",
       "    </tr>\n",
       "    <tr>\n",
       "      <th>sex</th>\n",
       "      <th></th>\n",
       "      <th></th>\n",
       "      <th></th>\n",
       "      <th></th>\n",
       "      <th></th>\n",
       "      <th></th>\n",
       "      <th></th>\n",
       "      <th></th>\n",
       "    </tr>\n",
       "  </thead>\n",
       "  <tbody>\n",
       "    <tr>\n",
       "      <th>F</th>\n",
       "      <td>15059.0</td>\n",
       "      <td>1203.426151</td>\n",
       "      <td>298.694785</td>\n",
       "      <td>161.125</td>\n",
       "      <td>1000.219</td>\n",
       "      <td>1204.438</td>\n",
       "      <td>1404.705</td>\n",
       "      <td>2310.776</td>\n",
       "    </tr>\n",
       "    <tr>\n",
       "      <th>M</th>\n",
       "      <td>14941.0</td>\n",
       "      <td>1005.424498</td>\n",
       "      <td>300.772492</td>\n",
       "      <td>-193.977</td>\n",
       "      <td>806.419</td>\n",
       "      <td>1001.906</td>\n",
       "      <td>1207.586</td>\n",
       "      <td>2205.932</td>\n",
       "    </tr>\n",
       "  </tbody>\n",
       "</table>\n",
       "</div>"
      ],
      "text/plain": [
       "       count         mean         std      min       25%       50%       75%  \\\n",
       "sex                                                                            \n",
       "F    15059.0  1203.426151  298.694785  161.125  1000.219  1204.438  1404.705   \n",
       "M    14941.0  1005.424498  300.772492 -193.977   806.419  1001.906  1207.586   \n",
       "\n",
       "          max  \n",
       "sex            \n",
       "F    2310.776  \n",
       "M    2205.932  "
      ]
     },
     "execution_count": 146,
     "metadata": {},
     "output_type": "execute_result"
    }
   ],
   "source": [
    "# Verify sex to SAT edge\n",
    "data.groupby(\"sex\")[\"SAT\"].describe()"
   ]
  },
  {
   "cell_type": "code",
   "execution_count": 147,
   "id": "religious-broadcast",
   "metadata": {},
   "outputs": [
    {
     "data": {
      "text/html": [
       "<div>\n",
       "<style scoped>\n",
       "    .dataframe tbody tr th:only-of-type {\n",
       "        vertical-align: middle;\n",
       "    }\n",
       "\n",
       "    .dataframe tbody tr th {\n",
       "        vertical-align: top;\n",
       "    }\n",
       "\n",
       "    .dataframe thead th {\n",
       "        text-align: right;\n",
       "    }\n",
       "</style>\n",
       "<table border=\"1\" class=\"dataframe\">\n",
       "  <thead>\n",
       "    <tr style=\"text-align: right;\">\n",
       "      <th></th>\n",
       "      <th>count</th>\n",
       "      <th>mean</th>\n",
       "      <th>std</th>\n",
       "      <th>min</th>\n",
       "      <th>25%</th>\n",
       "      <th>50%</th>\n",
       "      <th>75%</th>\n",
       "      <th>max</th>\n",
       "    </tr>\n",
       "    <tr>\n",
       "      <th>sex</th>\n",
       "      <th></th>\n",
       "      <th></th>\n",
       "      <th></th>\n",
       "      <th></th>\n",
       "      <th></th>\n",
       "      <th></th>\n",
       "      <th></th>\n",
       "      <th></th>\n",
       "    </tr>\n",
       "  </thead>\n",
       "  <tbody>\n",
       "    <tr>\n",
       "      <th>F</th>\n",
       "      <td>15059.0</td>\n",
       "      <td>2.706614</td>\n",
       "      <td>0.596194</td>\n",
       "      <td>0.357</td>\n",
       "      <td>2.305</td>\n",
       "      <td>2.708</td>\n",
       "      <td>3.107</td>\n",
       "      <td>5.041</td>\n",
       "    </tr>\n",
       "    <tr>\n",
       "      <th>M</th>\n",
       "      <td>14941.0</td>\n",
       "      <td>2.302915</td>\n",
       "      <td>0.603728</td>\n",
       "      <td>0.153</td>\n",
       "      <td>1.891</td>\n",
       "      <td>2.302</td>\n",
       "      <td>2.709</td>\n",
       "      <td>4.872</td>\n",
       "    </tr>\n",
       "  </tbody>\n",
       "</table>\n",
       "</div>"
      ],
      "text/plain": [
       "       count      mean       std    min    25%    50%    75%    max\n",
       "sex                                                                \n",
       "F    15059.0  2.706614  0.596194  0.357  2.305  2.708  3.107  5.041\n",
       "M    14941.0  2.302915  0.603728  0.153  1.891  2.302  2.709  4.872"
      ]
     },
     "execution_count": 147,
     "metadata": {},
     "output_type": "execute_result"
    }
   ],
   "source": [
    "# Verify sex to GPA edge\n",
    "data.groupby(\"sex\")[\"GPA\"].describe()"
   ]
  },
  {
   "cell_type": "code",
   "execution_count": 148,
   "id": "green-suffering",
   "metadata": {},
   "outputs": [
    {
     "data": {
      "text/plain": [
       "5    0.103867\n",
       "8    0.102900\n",
       "1    0.100500\n",
       "2    0.100033\n",
       "0    0.099700\n",
       "3    0.099400\n",
       "7    0.099267\n",
       "9    0.098467\n",
       "4    0.098133\n",
       "6    0.097733\n",
       "Name: extracurricular, dtype: float64"
      ]
     },
     "execution_count": 148,
     "metadata": {},
     "output_type": "execute_result"
    }
   ],
   "source": [
    "# Verify extracurricular information\n",
    "data[\"extracurricular\"].value_counts()/data.shape[0]"
   ]
  },
  {
   "cell_type": "code",
   "execution_count": 149,
   "id": "affecting-guinea",
   "metadata": {},
   "outputs": [
    {
     "name": "stdout",
     "output_type": "stream",
     "text": [
      "First we check the buckets have the same probabilities we specified: \n",
      "Percent of data between 0 and 4:  0.4970333333333333\n",
      "Percent of data between 5 and 9:  0.40486666666666665\n",
      "Percent of data between 10 and 37:  0.0981\n",
      "\n",
      "Now we check if uniform probability within buckets:\n",
      "Bucket One: \n",
      "0    0.204547\n",
      "1    0.200255\n",
      "2    0.199182\n",
      "3    0.198377\n",
      "4    0.197639\n",
      "Name: AP, dtype: float64\n",
      "\n",
      "Bucket Two: \n",
      "9    0.203935\n",
      "7    0.202206\n",
      "8    0.200066\n",
      "5    0.197925\n",
      "6    0.195867\n",
      "Name: AP, dtype: float64\n",
      "\n",
      "Bucket Three: \n",
      "36    0.043493\n",
      "26    0.041794\n",
      "23    0.041454\n",
      "22    0.040775\n",
      "37    0.040435\n",
      "30    0.039755\n",
      "35    0.039076\n",
      "12    0.038736\n",
      "11    0.038736\n",
      "33    0.037717\n",
      "16    0.037037\n",
      "13    0.036697\n",
      "32    0.035678\n",
      "14    0.035678\n",
      "34    0.034998\n",
      "20    0.034319\n",
      "18    0.034319\n",
      "24    0.033639\n",
      "31    0.033299\n",
      "25    0.032960\n",
      "28    0.032620\n",
      "29    0.032620\n",
      "19    0.032280\n",
      "17    0.031940\n",
      "10    0.030921\n",
      "21    0.030241\n",
      "27    0.029562\n",
      "15    0.029222\n",
      "Name: AP, dtype: float64\n"
     ]
    }
   ],
   "source": [
    "# Verify APs information\n",
    "bucketOne = data[\"AP\"][data[\"AP\"].between(0,4)]\n",
    "bucketTwo = data[\"AP\"][data[\"AP\"].between(5,9)]\n",
    "bucketThree = data[\"AP\"][data[\"AP\"].between(10,37)]\n",
    "print(\"First we check the buckets have the same probabilities we specified: \")\n",
    "print(\"Percent of data between 0 and 4: \", len(bucketOne)/data.shape[0])\n",
    "print(\"Percent of data between 5 and 9: \", len(bucketTwo)/data.shape[0])\n",
    "print(\"Percent of data between 10 and 37: \", len(bucketThree)/data.shape[0])\n",
    "print()\n",
    "\n",
    "print(\"Now we check if uniform probability within buckets:\")\n",
    "print(\"Bucket One: \")\n",
    "print(bucketOne.value_counts()/len(bucketOne))\n",
    "print()\n",
    "print(\"Bucket Two: \")\n",
    "print(bucketTwo.value_counts()/len(bucketTwo))\n",
    "print()\n",
    "print(\"Bucket Three: \")\n",
    "print(bucketThree.value_counts()/len(bucketThree))"
   ]
  },
  {
   "cell_type": "code",
   "execution_count": 150,
   "id": "egyptian-attitude",
   "metadata": {},
   "outputs": [
    {
     "data": {
      "image/png": "[encoded data removed]",
      "text/plain": [
       "<Figure size 432x288 with 1 Axes>"
      ]
     },
     "metadata": {
      "needs_background": "light"
     },
     "output_type": "display_data"
    }
   ],
   "source": [
    "# Verify Letter Score information\n",
    "plt.hist(data[\"letterScore\"])\n",
    "plt.xlabel(\"Recommendation Letter Score\")\n",
    "plt.ylabel(\"Count\")\n",
    "plt.title(\"Distribution of Recommendation Letter Score\")\n",
    "plt.show()"
   ]
  },
  {
   "cell_type": "code",
   "execution_count": 151,
   "id": "discrete-catalyst",
   "metadata": {},
   "outputs": [
    {
     "data": {
      "text/plain": [
       "0    0.203133\n",
       "1    0.201633\n",
       "2    0.200967\n",
       "3    0.197733\n",
       "4    0.196533\n",
       "Name: subject, dtype: float64"
      ]
     },
     "execution_count": 151,
     "metadata": {},
     "output_type": "execute_result"
    }
   ],
   "source": [
    "# Verify number of subject test information\n",
    "data[\"subject\"].value_counts()/data.shape[0]"
   ]
  },
  {
   "cell_type": "code",
   "execution_count": 152,
   "id": "hairy-software",
   "metadata": {},
   "outputs": [
    {
     "data": {
      "text/html": [
       "<div>\n",
       "<style scoped>\n",
       "    .dataframe tbody tr th:only-of-type {\n",
       "        vertical-align: middle;\n",
       "    }\n",
       "\n",
       "    .dataframe tbody tr th {\n",
       "        vertical-align: top;\n",
       "    }\n",
       "\n",
       "    .dataframe thead th {\n",
       "        text-align: right;\n",
       "    }\n",
       "</style>\n",
       "<table border=\"1\" class=\"dataframe\">\n",
       "  <thead>\n",
       "    <tr style=\"text-align: right;\">\n",
       "      <th></th>\n",
       "      <th>count</th>\n",
       "      <th>mean</th>\n",
       "      <th>std</th>\n",
       "      <th>min</th>\n",
       "      <th>25%</th>\n",
       "      <th>50%</th>\n",
       "      <th>75%</th>\n",
       "      <th>max</th>\n",
       "    </tr>\n",
       "    <tr>\n",
       "      <th>diversity</th>\n",
       "      <th></th>\n",
       "      <th></th>\n",
       "      <th></th>\n",
       "      <th></th>\n",
       "      <th></th>\n",
       "      <th></th>\n",
       "      <th></th>\n",
       "      <th></th>\n",
       "    </tr>\n",
       "  </thead>\n",
       "  <tbody>\n",
       "    <tr>\n",
       "      <th>A</th>\n",
       "      <td>6063.0</td>\n",
       "      <td>70.039659</td>\n",
       "      <td>4.957542</td>\n",
       "      <td>50.751</td>\n",
       "      <td>66.7645</td>\n",
       "      <td>70.140</td>\n",
       "      <td>73.3155</td>\n",
       "      <td>89.209</td>\n",
       "    </tr>\n",
       "    <tr>\n",
       "      <th>B</th>\n",
       "      <td>2969.0</td>\n",
       "      <td>89.992101</td>\n",
       "      <td>5.006665</td>\n",
       "      <td>72.106</td>\n",
       "      <td>86.5380</td>\n",
       "      <td>90.028</td>\n",
       "      <td>93.2860</td>\n",
       "      <td>106.197</td>\n",
       "    </tr>\n",
       "    <tr>\n",
       "      <th>H</th>\n",
       "      <td>2941.0</td>\n",
       "      <td>100.096028</td>\n",
       "      <td>10.123137</td>\n",
       "      <td>69.725</td>\n",
       "      <td>93.5520</td>\n",
       "      <td>99.834</td>\n",
       "      <td>107.0420</td>\n",
       "      <td>139.060</td>\n",
       "    </tr>\n",
       "    <tr>\n",
       "      <th>I</th>\n",
       "      <td>1471.0</td>\n",
       "      <td>79.674268</td>\n",
       "      <td>10.199589</td>\n",
       "      <td>43.187</td>\n",
       "      <td>73.0870</td>\n",
       "      <td>79.836</td>\n",
       "      <td>86.0100</td>\n",
       "      <td>112.031</td>\n",
       "    </tr>\n",
       "    <tr>\n",
       "      <th>O</th>\n",
       "      <td>4589.0</td>\n",
       "      <td>59.945652</td>\n",
       "      <td>9.797328</td>\n",
       "      <td>21.937</td>\n",
       "      <td>53.1610</td>\n",
       "      <td>60.043</td>\n",
       "      <td>66.7560</td>\n",
       "      <td>95.361</td>\n",
       "    </tr>\n",
       "    <tr>\n",
       "      <th>W</th>\n",
       "      <td>11967.0</td>\n",
       "      <td>79.714712</td>\n",
       "      <td>19.928893</td>\n",
       "      <td>-1.688</td>\n",
       "      <td>66.2445</td>\n",
       "      <td>79.432</td>\n",
       "      <td>93.1805</td>\n",
       "      <td>152.269</td>\n",
       "    </tr>\n",
       "  </tbody>\n",
       "</table>\n",
       "</div>"
      ],
      "text/plain": [
       "             count        mean        std     min      25%     50%       75%  \\\n",
       "diversity                                                                      \n",
       "A           6063.0   70.039659   4.957542  50.751  66.7645  70.140   73.3155   \n",
       "B           2969.0   89.992101   5.006665  72.106  86.5380  90.028   93.2860   \n",
       "H           2941.0  100.096028  10.123137  69.725  93.5520  99.834  107.0420   \n",
       "I           1471.0   79.674268  10.199589  43.187  73.0870  79.836   86.0100   \n",
       "O           4589.0   59.945652   9.797328  21.937  53.1610  60.043   66.7560   \n",
       "W          11967.0   79.714712  19.928893  -1.688  66.2445  79.432   93.1805   \n",
       "\n",
       "               max  \n",
       "diversity           \n",
       "A           89.209  \n",
       "B          106.197  \n",
       "H          139.060  \n",
       "I          112.031  \n",
       "O           95.361  \n",
       "W          152.269  "
      ]
     },
     "execution_count": 152,
     "metadata": {},
     "output_type": "execute_result"
    }
   ],
   "source": [
    "# Verify diversity to TOEFL edge \n",
    "data.groupby(\"diversity\")[\"TOEFL\"].describe()"
   ]
  },
  {
   "cell_type": "markdown",
   "id": "bulgarian-specialist",
   "metadata": {},
   "source": [
    "# Checking for Bias"
   ]
  },
  {
   "cell_type": "code",
   "execution_count": 153,
   "id": "endangered-primary",
   "metadata": {},
   "outputs": [
    {
     "data": {
      "text/html": [
       "<div>\n",
       "<style scoped>\n",
       "    .dataframe tbody tr th:only-of-type {\n",
       "        vertical-align: middle;\n",
       "    }\n",
       "\n",
       "    .dataframe tbody tr th {\n",
       "        vertical-align: top;\n",
       "    }\n",
       "\n",
       "    .dataframe thead th {\n",
       "        text-align: right;\n",
       "    }\n",
       "</style>\n",
       "<table border=\"1\" class=\"dataframe\">\n",
       "  <thead>\n",
       "    <tr style=\"text-align: right;\">\n",
       "      <th></th>\n",
       "      <th>sex</th>\n",
       "      <th>diversity</th>\n",
       "      <th>legacy</th>\n",
       "      <th>SAT</th>\n",
       "      <th>GPA</th>\n",
       "      <th>extracurricular</th>\n",
       "      <th>TOEFL</th>\n",
       "      <th>AP</th>\n",
       "      <th>letterScore</th>\n",
       "      <th>subject</th>\n",
       "      <th>admission</th>\n",
       "    </tr>\n",
       "  </thead>\n",
       "  <tbody>\n",
       "    <tr>\n",
       "      <th>0</th>\n",
       "      <td>1</td>\n",
       "      <td>5</td>\n",
       "      <td>1</td>\n",
       "      <td>1509.398</td>\n",
       "      <td>1.573</td>\n",
       "      <td>2</td>\n",
       "      <td>48.722</td>\n",
       "      <td>32</td>\n",
       "      <td>0.352</td>\n",
       "      <td>1</td>\n",
       "      <td>0</td>\n",
       "    </tr>\n",
       "    <tr>\n",
       "      <th>1</th>\n",
       "      <td>1</td>\n",
       "      <td>4</td>\n",
       "      <td>1</td>\n",
       "      <td>853.885</td>\n",
       "      <td>2.403</td>\n",
       "      <td>6</td>\n",
       "      <td>41.644</td>\n",
       "      <td>3</td>\n",
       "      <td>0.602</td>\n",
       "      <td>4</td>\n",
       "      <td>0</td>\n",
       "    </tr>\n",
       "    <tr>\n",
       "      <th>2</th>\n",
       "      <td>1</td>\n",
       "      <td>0</td>\n",
       "      <td>0</td>\n",
       "      <td>937.916</td>\n",
       "      <td>2.147</td>\n",
       "      <td>9</td>\n",
       "      <td>70.826</td>\n",
       "      <td>3</td>\n",
       "      <td>0.411</td>\n",
       "      <td>4</td>\n",
       "      <td>0</td>\n",
       "    </tr>\n",
       "    <tr>\n",
       "      <th>3</th>\n",
       "      <td>1</td>\n",
       "      <td>5</td>\n",
       "      <td>0</td>\n",
       "      <td>1383.703</td>\n",
       "      <td>1.578</td>\n",
       "      <td>5</td>\n",
       "      <td>72.533</td>\n",
       "      <td>9</td>\n",
       "      <td>0.360</td>\n",
       "      <td>0</td>\n",
       "      <td>1</td>\n",
       "    </tr>\n",
       "    <tr>\n",
       "      <th>4</th>\n",
       "      <td>0</td>\n",
       "      <td>4</td>\n",
       "      <td>0</td>\n",
       "      <td>1226.045</td>\n",
       "      <td>3.316</td>\n",
       "      <td>7</td>\n",
       "      <td>58.988</td>\n",
       "      <td>4</td>\n",
       "      <td>0.296</td>\n",
       "      <td>3</td>\n",
       "      <td>1</td>\n",
       "    </tr>\n",
       "  </tbody>\n",
       "</table>\n",
       "</div>"
      ],
      "text/plain": [
       "   sex  diversity  legacy       SAT    GPA  extracurricular   TOEFL  AP  \\\n",
       "0    1          5       1  1509.398  1.573                2  48.722  32   \n",
       "1    1          4       1   853.885  2.403                6  41.644   3   \n",
       "2    1          0       0   937.916  2.147                9  70.826   3   \n",
       "3    1          5       0  1383.703  1.578                5  72.533   9   \n",
       "4    0          4       0  1226.045  3.316                7  58.988   4   \n",
       "\n",
       "   letterScore  subject  admission  \n",
       "0        0.352        1          0  \n",
       "1        0.602        4          0  \n",
       "2        0.411        4          0  \n",
       "3        0.360        0          1  \n",
       "4        0.296        3          1  "
      ]
     },
     "execution_count": 153,
     "metadata": {},
     "output_type": "execute_result"
    }
   ],
   "source": [
    "# Encode categorical variables\n",
    "categorical = ['sex', 'diversity', 'legacy', 'admission']\n",
    "encoder = LabelEncoder()\n",
    "encoded = data.copy()\n",
    "encoded[categorical] = data[categorical].apply(encoder.fit_transform)\n",
    "encoded.head()"
   ]
  },
  {
   "cell_type": "code",
   "execution_count": 154,
   "id": "adjusted-amino",
   "metadata": {},
   "outputs": [
    {
     "name": "stdout",
     "output_type": "stream",
     "text": [
      "sex :  (0, 'F') (1, 'M')\n",
      "diversity :  (0, 'A') (1, 'B') (2, 'H') (3, 'I') (4, 'O') (5, 'W')\n",
      "legacy :  (0, 'N') (1, 'Y')\n",
      "admission :  (0, 'N') (1, 'Y')\n"
     ]
    }
   ],
   "source": [
    "# For future reference get the mapping used for encoding\n",
    "for column in categorical:\n",
    "    print(column, \": \", *sorted(zip(encoded[column].unique(), data[column].unique()), \n",
    "                                key=lambda x: x[0]))"
   ]
  },
  {
   "cell_type": "code",
   "execution_count": 155,
   "id": "prostate-designation",
   "metadata": {},
   "outputs": [
    {
     "name": "stdout",
     "output_type": "stream",
     "text": [
      "0.5903333333333334\n"
     ]
    }
   ],
   "source": [
    "# Seperate into features and labels\n",
    "X, y = encoded.loc[:, encoded.columns != 'admission'], encoded.admission\n",
    "\n",
    "# Split into testing and training data\n",
    "X_train, X_test, y_train, y_test = train_test_split(X, y, test_size=0.2, stratify=y, random_state=12)\n",
    "\n",
    "# Train logistic regression\n",
    "model = LogisticRegression(solver='liblinear', multi_class='auto')\n",
    "model.fit(X_train, y_train)\n",
    "\n",
    "# Get results\n",
    "y_hat = model.predict(X_test)\n",
    "\n",
    "# Get accuracy\n",
    "print(model.score(X_test, y_test))"
   ]
  },
  {
   "cell_type": "code",
   "execution_count": 156,
   "id": "electric-psychiatry",
   "metadata": {},
   "outputs": [
    {
     "data": {
      "image/png": "[encoded data removed]",
      "text/plain": [
       "<Figure size 432x288 with 2 Axes>"
      ]
     },
     "metadata": {
      "needs_background": "light"
     },
     "output_type": "display_data"
    }
   ],
   "source": [
    "# Display confusion matrix\n",
    "plot_confusion_matrix(model, X_test, y_test) \n",
    "plt.show()"
   ]
  },
  {
   "cell_type": "code",
   "execution_count": 157,
   "id": "capital-realtor",
   "metadata": {},
   "outputs": [
    {
     "name": "stdout",
     "output_type": "stream",
     "text": [
      "Accuracy for male: 0.6376956376956376\n",
      "Accuracy for femal: 0.5428762095428762\n"
     ]
    }
   ],
   "source": [
    "# Accuracy for male and female\n",
    "maleAccuracy = model.score(X_test[X_test['sex'] == 1], y_test[X_test['sex'] == 1])\n",
    "femaleAccuracy = model.score(X_test[X_test['sex'] == 0], y_test[X_test['sex'] == 0])\n",
    "print(\"Accuracy for male:\", maleAccuracy)\n",
    "print(\"Accuracy for femal:\", femaleAccuracy)"
   ]
  },
  {
   "cell_type": "code",
   "execution_count": 158,
   "id": "individual-sally",
   "metadata": {},
   "outputs": [
    {
     "name": "stdout",
     "output_type": "stream",
     "text": [
      "0.5668333333333333\n"
     ]
    }
   ],
   "source": [
    "# Drop sex\n",
    "X_train_no_sex = X_train.drop(['sex'], axis=1)\n",
    "X_test_no_sex = X_test.drop(['sex'], axis=1)\n",
    "\n",
    "# Retrain model\n",
    "model = LogisticRegression(solver='liblinear', multi_class='auto')\n",
    "model.fit(X_train_no_sex, y_train)\n",
    "\n",
    "# Get results\n",
    "y_hat = model.predict(X_test_no_sex)\n",
    "\n",
    "# Get accuracy\n",
    "print(model.score(X_test_no_sex, y_test))"
   ]
  },
  {
   "cell_type": "code",
   "execution_count": 159,
   "id": "chubby-lightning",
   "metadata": {},
   "outputs": [
    {
     "data": {
      "image/png": "[encoded data removed]",
      "text/plain": [
       "<Figure size 432x288 with 2 Axes>"
      ]
     },
     "metadata": {
      "needs_background": "light"
     },
     "output_type": "display_data"
    }
   ],
   "source": [
    "# Display confusion matrix\n",
    "plot_confusion_matrix(model, X_test_no_sex, y_test) \n",
    "plt.show()"
   ]
  },
  {
   "cell_type": "code",
   "execution_count": 160,
   "id": "finite-cooperation",
   "metadata": {},
   "outputs": [
    {
     "name": "stdout",
     "output_type": "stream",
     "text": [
      "Accuracy for male: 0.631035631035631\n",
      "Accuracy for femal: 0.5025025025025025\n"
     ]
    }
   ],
   "source": [
    "# Accuracy for male and female\n",
    "maleAccuracy = model.score(X_test_no_sex[X_test[\"sex\"] == 1], y_test[X_test['sex'] == 1])\n",
    "femaleAccuracy = model.score(X_test_no_sex[X_test[\"sex\"] == 0], y_test[X_test['sex'] == 0])\n",
    "print(\"Accuracy for male:\", maleAccuracy)\n",
    "print(\"Accuracy for femal:\", femaleAccuracy)"
   ]
  },
  {
   "cell_type": "code",
   "execution_count": null,
   "id": "qualified-macro",
   "metadata": {},
   "outputs": [],
   "source": []
  }
 ],
 "metadata": {
  "kernelspec": {
   "display_name": "Python 3",
   "language": "python",
   "name": "python3"
  },
  "language_info": {
   "codemirror_mode": {
    "name": "ipython",
    "version": 3
   },
   "file_extension": ".py",
   "mimetype": "text/x-python",
   "name": "python",
   "nbconvert_exporter": "python",
   "pygments_lexer": "ipython3",
   "version": "3.7.10"
  }
 },
 "nbformat": 4,
 "nbformat_minor": 5
}
