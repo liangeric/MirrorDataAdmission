{
 "cells": [
  {
   "cell_type": "code",
   "execution_count": 80,
   "metadata": {},
   "outputs": [],
   "source": [
    "from mirror.nodes import *\n",
    "from mirror.edges import *\n",
    "from mirror.generator import Mirror\n",
    "import pandas as pd"
   ]
  },
  {
   "cell_type": "code",
   "execution_count": 81,
   "metadata": {},
   "outputs": [],
   "source": [
    "# size of the data\n",
    "total_n = 30000\n",
    "\n",
    "# initialize demographic feature nodes\n",
    "node_sex = CategoricalNode(\"sex\", {\"M\": 0.5, \"F\": 0.5}, sample_n=total_n)\n",
    "node_diversity = CategoricalNode(\"diversity\", \n",
    "                                 {\"W\": 0.4, \"B\": 0.1, \"A\":0.2, \"H\":0.1,\n",
    "                                  \"I\":0.05, \"O\":0.15}, \n",
    "                                 sample_n=total_n)\n",
    "node_legacy = CategoricalNode(\"legacy\", {\"Y\": 0.2, \"N\": 0.8}, sample_n=total_n)\n",
    "\n",
    "# initialize application feature nodes\n",
    "node_sat = GaussianNode(\"SAT\", miu=1500, var=300**2, sample_n=total_n) \n",
    "node_gpa = GaussianNode(\"GPA\", miu=2.7, var=0.6**2, sample_n=total_n)\n",
    "node_extracurricular = OrdinalGlobalNode(\"extracurricular\", min=0, max=10, sample_n = total_n)\n",
    "node_toefl = GaussianNode(\"TOEFL\", miu=90, var=10**2, sample_n=total_n)\n",
    "node_numAPs = OrdinalLocalNode(\"AP\", {\"bound\": [0, 5, 10, 38], \"probability\": [0.5, 0.4, 0.1]}, sample_n=total_n)\n",
    "node_letters = UniformNode(\"letterScore\", min=0, max=1, sample_n=total_n)\n",
    "node_subjectTest = OrdinalGlobalNode(\"subject\", min=0, max=5, sample_n = total_n)\n",
    "\n",
    "# initialize node for admission result\n",
    "node_admission = CategoricalNode(\"admission\", {\"Y\": 0.5, \"N\": 0.5}, sample_n=total_n)"
   ]
  },
  {
   "cell_type": "code",
   "execution_count": 82,
   "metadata": {},
   "outputs": [],
   "source": [
    "# initialize edges in DAG\n",
    "edge_sex_SAT = CtoN(\"sex\", \"SAT\", {\"M\": [\"Gaussian\", 1000, 300**2], \"F\": [\"Gaussian\", 1200, 300**2]})\n",
    "edge_sex_GPA = CtoN(\"sex\", \"GPA\", {\"M\": [\"Gaussian\", 2.3, 0.6**2], \"F\": [\"Gaussian\", 2.7, 0.6**2]})\n",
    "edge_diversity_toefl = CtoN(\"diversity\", \"TOEFL\", {\"W\": [\"Gaussian\", 80, 20**2], \n",
    "                                                   \"B\": [\"Gaussian\", 90, 5**2],\n",
    "                                                   \"A\": [\"Gaussian\", 70, 5**2],\n",
    "                                                   \"H\": [\"Gaussian\", 100, 10**2],\n",
    "                                                   \"I\": [\"Gaussian\", 80, 10**2],\n",
    "                                                   \"O\": [\"Gaussian\", 60, 10**2]})\n",
    "\n",
    "edge_sex_admission = CtoC(\"sex\", \"admission\", {\"M\": {\"Y\": 0.8, \"N\": 0.2}, \"F\": {\"Y\": 0.2, \"N\": 0.8}})\n",
    "edge_diversity_admission = CtoC(\"diversity\", \"admission\", {\"W\": {\"Y\": 0.3, \"N\": 0.7}, \n",
    "                                                           \"B\": {\"Y\": 0.7, \"N\": 0.3},\n",
    "                                                           \"A\": {\"Y\": 0.2, \"N\": 0.8}, \n",
    "                                                           \"H\": {\"Y\": 0.5, \"N\": 0.5},\n",
    "                                                           \"I\": {\"Y\": 0.4, \"N\": 0.6},\n",
    "                                                           \"O\": {\"Y\": 0.9, \"N\": 0.1}})\n",
    "edge_legacy_admission = CtoC(\"legacy\", \"admission\", {\"Y\": {\"Y\": 0.9, \"N\": 0.1}, \"N\": {\"Y\": 0.4, \"N\": 0.6}})\n",
    "edge_SAT_admission = NtoC(\"SAT\", \"admission\", [2000], [{\"Y\": 0.7, \"N\": 0.3}, {\"Y\": 0.3, \"N\": 0.7}])\n",
    "edge_GPA_admission = NtoC(\"GPA\", \"admission\", [3], [{\"Y\": 0.8, \"N\": 0.2}, {\"Y\": 0.2, \"N\": 0.8}])\n",
    "edge_extra_admission = NtoC(\"extracurricular\", \"admission\", [5], [{\"Y\": 0.8, \"N\": 0.2}, {\"Y\": 0.2, \"N\": 0.8}])\n",
    "edge_toefl_admission = NtoC(\"TOEFL\", \"admission\", [100], [{\"Y\": 0.6, \"N\": 0.4}, {\"Y\": 0.4, \"N\": 0.6}])\n",
    "edge_aps_admission = NtoC(\"AP\", \"admission\", [8], [{\"Y\": 0.8, \"N\": 0.2}, {\"Y\": 0.4, \"N\": 0.6}])\n",
    "edge_letters_admission = NtoC(\"letterScore\", \"admission\", [0.9], [{\"Y\": 0.9, \"N\": 0.1}, {\"Y\": 0.3, \"N\": 0.7}])\n",
    "edge_subject_admission = NtoC(\"subject\", \"admission\", [3], [{\"Y\": 0.7, \"N\": 0.3}, {\"Y\": 0.5, \"N\": 0.5}])"
   ]
  },
  {
   "cell_type": "code",
   "execution_count": 83,
   "metadata": {},
   "outputs": [],
   "source": [
    "# Create DAG\n",
    "nodes = [node_sex, node_diversity, node_legacy, node_sat, node_gpa, node_extracurricular, node_toefl, \n",
    "         node_numAPs, node_letters, node_subjectTest, node_admission]\n",
    "\n",
    "edge_relation = {\"SAT\": edge_sex_SAT,\n",
    "                 \"GPA\": edge_sex_GPA,\n",
    "                 \"TOEFL\": edge_diversity_toefl,\n",
    "                 \"admission\": ([edge_sex_admission, edge_diversity_admission, edge_legacy_admission,\n",
    "                                edge_SAT_admission, edge_GPA_admission, edge_extra_admission,\n",
    "                                edge_toefl_admission, edge_aps_admission, edge_letters_admission,\n",
    "                                edge_subject_admission],\n",
    "                               [0.2, 0.11, 0.2, 0.07, 0.07, 0.07, 0.07, 0.07, 0.07, 0.07])}"
   ]
  },
  {
   "cell_type": "code",
   "execution_count": 84,
   "metadata": {},
   "outputs": [
    {
     "name": "stdout",
     "output_type": "stream",
     "text": [
      "sex independet ['sex']\n",
      "----------------------------------------\n",
      "\n",
      "diversity independet ['sex', 'diversity']\n",
      "----------------------------------------\n",
      "\n",
      "legacy independet ['sex', 'diversity', 'legacy']\n",
      "----------------------------------------\n",
      "\n",
      "SAT with parents\n",
      "One parent <mirror.edges.CtoN object at 0x7fb1a8b75490> ['sex', 'diversity', 'legacy', 'SAT']\n",
      "----------------------------------------\n",
      "\n",
      "GPA with parents\n",
      "One parent <mirror.edges.CtoN object at 0x7fb1a8b75390> ['sex', 'diversity', 'legacy', 'SAT', 'GPA']\n",
      "----------------------------------------\n",
      "\n",
      "extracurricular independet ['sex', 'diversity', 'legacy', 'SAT', 'GPA', 'extracurricular']\n",
      "----------------------------------------\n",
      "\n",
      "TOEFL with parents\n",
      "One parent <mirror.edges.CtoN object at 0x7fb1a8b753d0> ['sex', 'diversity', 'legacy', 'SAT', 'GPA', 'extracurricular', 'TOEFL']\n",
      "----------------------------------------\n",
      "\n",
      "AP independet ['sex', 'diversity', 'legacy', 'SAT', 'GPA', 'extracurricular', 'TOEFL', 'AP']\n",
      "----------------------------------------\n",
      "\n",
      "letterScore independet ['sex', 'diversity', 'legacy', 'SAT', 'GPA', 'extracurricular', 'TOEFL', 'AP', 'letterScore']\n",
      "----------------------------------------\n",
      "\n",
      "subject independet ['sex', 'diversity', 'legacy', 'SAT', 'GPA', 'extracurricular', 'TOEFL', 'AP', 'letterScore', 'subject']\n",
      "----------------------------------------\n",
      "\n",
      "admission with parents\n",
      "----------------------------------------\n",
      "\n",
      "--> Generated data is saved to  admission0.csv \n",
      "\n"
     ]
    }
   ],
   "source": [
    "# generate data\n",
    "mirror = Mirror(seed=0)\n",
    "mirror.generate_csv(nodes, edge_relation)\n",
    "mirror.save_to_disc(\"admission0.csv\", excluded_cols=['group','C_SAT','C_GPA','C_extracurricular',\n",
    "                                                     'C_TOEFL','C_AP','C_letterScore','C_subject'])"
   ]
  },
  {
   "cell_type": "code",
   "execution_count": null,
   "metadata": {},
   "outputs": [],
   "source": []
  }
 ],
 "metadata": {
  "kernelspec": {
   "display_name": "Python 3",
   "language": "python",
   "name": "python3"
  },
  "language_info": {
   "codemirror_mode": {
    "name": "ipython",
    "version": 3
   },
   "file_extension": ".py",
   "mimetype": "text/x-python",
   "name": "python",
   "nbconvert_exporter": "python",
   "pygments_lexer": "ipython3",
   "version": "3.7.10"
  }
 },
 "nbformat": 4,
 "nbformat_minor": 4
}
