{
 "cells": [
  {
   "cell_type": "code",
   "execution_count": 3,
   "metadata": {},
   "outputs": [],
   "source": [
    "from mirror.nodes import *\n",
    "from mirror.edges import *\n",
    "from mirror.generator import Mirror\n",
    "import pandas as pd"
   ]
  },
  {
   "cell_type": "code",
   "execution_count": 4,
   "metadata": {},
   "outputs": [],
   "source": [
    "# size of the data\n",
    "total_n = 30000\n",
    "\n",
    "# initialize demographic feature nodes\n",
    "node_sex = CategoricalNode(\"sex\", {\"M\": 0.5, \"F\": 0.5}, sample_n=total_n)\n",
    "node_diversity = CategoricalNode(\"diversity\", \n",
    "                                 {\"White\": 0.4, \"Black\": 0.1, \"Asian\":0.2,\"Hispanic/Latino\":0.1,\n",
    "                                  \"American Indian\":0.05,\"Other\":0.15}, \n",
    "                                 sample_n=total_n)\n",
    "node_legacy = CategoricalNode(\"legacy\", {\"Y\": 0.2, \"N\": 0.8}, sample_n=total_n)\n",
    "\n",
    "# initialize application feature nodes\n",
    "node_sat = GaussianNode(\"SAT\", miu=1500, var=300**2, sample_n=total_n) \n",
    "node_gpa = GaussianNode(\"GPA\", miu=2.7, var=0.6**2, sample_n=total_n)\n",
    "node_extracurricular = OrdinalGlobalNode(\"extracurricular\", min=0, max=10, sample_n = total_n)\n",
    "node_toefl = GaussianNode(\"TOEFL\", miu=90, var=10**2, sample_n=total_n)\n",
    "node_numAPs = OrdinalLocalNode(\"AP\", {\"bound\": [0, 5, 10, 38], \"probability\": [0.5, 0.4, 0.1]}, sample_n=total_n)\n",
    "node_letters = UniformNode(\"letterScore\", min=0, max=1, sample_n=total_n)\n",
    "node_subjectTest = OrdinalGlobalNode(\"subject\", min=0, max=5, sample_n = total_n)\n",
    "\n",
    "# initialize node for admission result\n",
    "node_admission = CategoricalNode(\"admission\", {\"Y\": 0.5, \"N\": 0.5}, sample_n=total_n)"
   ]
  },
  {
   "cell_type": "code",
   "execution_count": null,
   "metadata": {},
   "outputs": [],
   "source": [
    "# initialize edges in DAG\n",
    "edge_sex_SAT = CtoN(\"sex\", \"SAT\", {\"M\": [\"Gaussian\", 1000, 300**2], \"F\": [\"Gaussian\", 1200, 300**2]})\n",
    "edge_sex_GPA = CtoN(\"sex\", \"GPA\", {\"M\": [\"Gaussian\", 2.3, 0.6**2], \"F\": [\"Gaussian\", 2.7, 0.6**2]})\n",
    "edge_diversity_toefl = CtoN(\"diversity\", \"TOEFL\", {\"White\": [\"Gaussian\", 90, 20**2], \n",
    "                                                   \"Black\": [\"Gaussian\", 80, 5**2],\n",
    "                                                   \"Asian\": [\"Gaussian\", 70, 5**2],\n",
    "                                                   \"Hispanic/Latino\": [\"Gaussian\", 100, 10**2],\n",
    "                                                   \"American Indian\": [\"Gaussian\", 80, 10**2],\n",
    "                                                   \"Other\": [\"Gaussian\", 60, 10**2]})\n",
    "\n",
    "edge_sex_admission = \n",
    "edge_diversity_admission = \n",
    "edge_legacy_admission = \n",
    "edge_SAT_admission = \n",
    "edge_GPA_admission = \n",
    "edge_extra_admission = \n",
    "edge_toefl_admission = \n",
    "edge_aps_admission = \n",
    "edge_letters_admission = \n",
    "edge_subject_admission = "
   ]
  }
 ],
 "metadata": {
  "kernelspec": {
   "display_name": "Python 3",
   "language": "python",
   "name": "python3"
  },
  "language_info": {
   "codemirror_mode": {
    "name": "ipython",
    "version": 3
   },
   "file_extension": ".py",
   "mimetype": "text/x-python",
   "name": "python",
   "nbconvert_exporter": "python",
   "pygments_lexer": "ipython3",
   "version": "3.7.10"
  }
 },
 "nbformat": 4,
 "nbformat_minor": 4
}
